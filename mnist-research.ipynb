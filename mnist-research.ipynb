{
 "cells": [
  {
   "cell_type": "markdown",
   "id": "a14f70c0",
   "metadata": {
    "papermill": {
     "duration": 0.007125,
     "end_time": "2023-05-09T17:40:13.054396",
     "exception": false,
     "start_time": "2023-05-09T17:40:13.047271",
     "status": "completed"
    },
    "tags": []
   },
   "source": [
    "# MNIST"
   ]
  },
  {
   "cell_type": "code",
   "execution_count": 1,
   "id": "a664bacc",
   "metadata": {
    "execution": {
     "iopub.execute_input": "2023-05-09T17:40:13.069867Z",
     "iopub.status.busy": "2023-05-09T17:40:13.069081Z",
     "iopub.status.idle": "2023-05-09T17:40:25.600447Z",
     "shell.execute_reply": "2023-05-09T17:40:25.599080Z"
    },
    "papermill": {
     "duration": 12.541927,
     "end_time": "2023-05-09T17:40:25.603005",
     "exception": false,
     "start_time": "2023-05-09T17:40:13.061078",
     "status": "completed"
    },
    "tags": []
   },
   "outputs": [
    {
     "name": "stdout",
     "output_type": "stream",
     "text": [
      "Collecting pyro-ppl\r\n",
      "  Downloading pyro_ppl-1.8.4-py3-none-any.whl (730 kB)\r\n",
      "\u001b[2K     \u001b[90m━━━━━━━━━━━━━━━━━━━━━━━━━━━━━━━━━━━━━━\u001b[0m \u001b[32m730.7/730.7 kB\u001b[0m \u001b[31m12.3 MB/s\u001b[0m eta \u001b[36m0:00:00\u001b[0m\r\n",
      "\u001b[?25hCollecting pyro-api>=0.1.1\r\n",
      "  Downloading pyro_api-0.1.2-py3-none-any.whl (11 kB)\r\n",
      "Requirement already satisfied: torch>=1.11.0 in /opt/conda/lib/python3.10/site-packages (from pyro-ppl) (2.0.0+cpu)\r\n",
      "Requirement already satisfied: opt-einsum>=2.3.2 in /opt/conda/lib/python3.10/site-packages (from pyro-ppl) (3.3.0)\r\n",
      "Requirement already satisfied: numpy>=1.7 in /opt/conda/lib/python3.10/site-packages (from pyro-ppl) (1.23.5)\r\n",
      "Requirement already satisfied: tqdm>=4.36 in /opt/conda/lib/python3.10/site-packages (from pyro-ppl) (4.64.1)\r\n",
      "Requirement already satisfied: typing-extensions in /opt/conda/lib/python3.10/site-packages (from torch>=1.11.0->pyro-ppl) (4.5.0)\r\n",
      "Requirement already satisfied: filelock in /opt/conda/lib/python3.10/site-packages (from torch>=1.11.0->pyro-ppl) (3.11.0)\r\n",
      "Requirement already satisfied: networkx in /opt/conda/lib/python3.10/site-packages (from torch>=1.11.0->pyro-ppl) (3.1)\r\n",
      "Requirement already satisfied: jinja2 in /opt/conda/lib/python3.10/site-packages (from torch>=1.11.0->pyro-ppl) (3.1.2)\r\n",
      "Requirement already satisfied: sympy in /opt/conda/lib/python3.10/site-packages (from torch>=1.11.0->pyro-ppl) (1.11.1)\r\n",
      "Requirement already satisfied: MarkupSafe>=2.0 in /opt/conda/lib/python3.10/site-packages (from jinja2->torch>=1.11.0->pyro-ppl) (2.1.2)\r\n",
      "Requirement already satisfied: mpmath>=0.19 in /opt/conda/lib/python3.10/site-packages (from sympy->torch>=1.11.0->pyro-ppl) (1.3.0)\r\n",
      "Installing collected packages: pyro-api, pyro-ppl\r\n",
      "Successfully installed pyro-api-0.1.2 pyro-ppl-1.8.4\r\n",
      "\u001b[33mWARNING: Running pip as the 'root' user can result in broken permissions and conflicting behaviour with the system package manager. It is recommended to use a virtual environment instead: https://pip.pypa.io/warnings/venv\u001b[0m\u001b[33m\r\n",
      "\u001b[0mNote: you may need to restart the kernel to use updated packages.\n"
     ]
    }
   ],
   "source": [
    "pip install pyro-ppl"
   ]
  },
  {
   "cell_type": "code",
   "execution_count": 2,
   "id": "f0352f49",
   "metadata": {
    "execution": {
     "iopub.execute_input": "2023-05-09T17:40:25.619741Z",
     "iopub.status.busy": "2023-05-09T17:40:25.619351Z",
     "iopub.status.idle": "2023-05-09T17:40:29.085373Z",
     "shell.execute_reply": "2023-05-09T17:40:29.084321Z"
    },
    "papermill": {
     "duration": 3.477293,
     "end_time": "2023-05-09T17:40:29.087906",
     "exception": false,
     "start_time": "2023-05-09T17:40:25.610613",
     "status": "completed"
    },
    "tags": []
   },
   "outputs": [],
   "source": [
    "import torch\n",
    "import torch.nn as nn\n",
    "from torch.utils.data import DataLoader\n",
    "import torchvision\n",
    "from torchvision.datasets import MNIST\n",
    "import torch.nn.functional as F\n",
    "import torchvision.transforms as transforms"
   ]
  },
  {
   "cell_type": "code",
   "execution_count": 3,
   "id": "ae82921c",
   "metadata": {
    "execution": {
     "iopub.execute_input": "2023-05-09T17:40:29.105610Z",
     "iopub.status.busy": "2023-05-09T17:40:29.105005Z",
     "iopub.status.idle": "2023-05-09T17:40:30.281641Z",
     "shell.execute_reply": "2023-05-09T17:40:30.280889Z"
    },
    "papermill": {
     "duration": 1.188109,
     "end_time": "2023-05-09T17:40:30.284097",
     "exception": false,
     "start_time": "2023-05-09T17:40:29.095988",
     "status": "completed"
    },
    "tags": []
   },
   "outputs": [
    {
     "name": "stdout",
     "output_type": "stream",
     "text": [
      "Downloading http://yann.lecun.com/exdb/mnist/train-images-idx3-ubyte.gz\n",
      "Downloading http://yann.lecun.com/exdb/mnist/train-images-idx3-ubyte.gz to ./data/MNIST/raw/train-images-idx3-ubyte.gz\n"
     ]
    },
    {
     "name": "stderr",
     "output_type": "stream",
     "text": [
      "100%|██████████| 9912422/9912422 [00:00<00:00, 85991729.31it/s]\n"
     ]
    },
    {
     "name": "stdout",
     "output_type": "stream",
     "text": [
      "Extracting ./data/MNIST/raw/train-images-idx3-ubyte.gz to ./data/MNIST/raw\n",
      "\n",
      "Downloading http://yann.lecun.com/exdb/mnist/train-labels-idx1-ubyte.gz\n",
      "Downloading http://yann.lecun.com/exdb/mnist/train-labels-idx1-ubyte.gz to ./data/MNIST/raw/train-labels-idx1-ubyte.gz\n"
     ]
    },
    {
     "name": "stderr",
     "output_type": "stream",
     "text": [
      "100%|██████████| 28881/28881 [00:00<00:00, 42031816.04it/s]\n"
     ]
    },
    {
     "name": "stdout",
     "output_type": "stream",
     "text": [
      "Extracting ./data/MNIST/raw/train-labels-idx1-ubyte.gz to ./data/MNIST/raw\n",
      "\n",
      "Downloading http://yann.lecun.com/exdb/mnist/t10k-images-idx3-ubyte.gz\n",
      "Downloading http://yann.lecun.com/exdb/mnist/t10k-images-idx3-ubyte.gz to ./data/MNIST/raw/t10k-images-idx3-ubyte.gz\n"
     ]
    },
    {
     "name": "stderr",
     "output_type": "stream",
     "text": [
      "100%|██████████| 1648877/1648877 [00:00<00:00, 22470389.04it/s]\n"
     ]
    },
    {
     "name": "stdout",
     "output_type": "stream",
     "text": [
      "Extracting ./data/MNIST/raw/t10k-images-idx3-ubyte.gz to ./data/MNIST/raw\n",
      "\n",
      "Downloading http://yann.lecun.com/exdb/mnist/t10k-labels-idx1-ubyte.gz\n",
      "Downloading http://yann.lecun.com/exdb/mnist/t10k-labels-idx1-ubyte.gz to ./data/MNIST/raw/t10k-labels-idx1-ubyte.gz\n"
     ]
    },
    {
     "name": "stderr",
     "output_type": "stream",
     "text": [
      "100%|██████████| 4542/4542 [00:00<00:00, 9283883.42it/s]\n"
     ]
    },
    {
     "name": "stdout",
     "output_type": "stream",
     "text": [
      "Extracting ./data/MNIST/raw/t10k-labels-idx1-ubyte.gz to ./data/MNIST/raw\n",
      "\n"
     ]
    }
   ],
   "source": [
    "# MNIST\n",
    "transform = transforms.Compose([transforms.ToTensor(), transforms.Normalize((0.1307,), (0.3081,))])\n",
    "\n",
    "train_set = torchvision.datasets.MNIST(root='./data', train=True, download=True, transform=transform)\n",
    "train_loader = torch.utils.data.DataLoader(train_set, batch_size=128, shuffle=True, num_workers=2)\n",
    "\n",
    "test_set = torchvision.datasets.MNIST(root='./data', train=False, download=True, transform=transform)\n",
    "test_loader = torch.utils.data.DataLoader(test_set, batch_size=128, shuffle=False, num_workers=2)"
   ]
  },
  {
   "cell_type": "markdown",
   "id": "83292b74",
   "metadata": {
    "papermill": {
     "duration": 0.008571,
     "end_time": "2023-05-09T17:40:30.301955",
     "exception": false,
     "start_time": "2023-05-09T17:40:30.293384",
     "status": "completed"
    },
    "tags": []
   },
   "source": [
    "## 1.Gaussian weights"
   ]
  },
  {
   "cell_type": "markdown",
   "id": "8d818304",
   "metadata": {
    "papermill": {
     "duration": 0.008332,
     "end_time": "2023-05-09T17:40:30.319034",
     "exception": false,
     "start_time": "2023-05-09T17:40:30.310702",
     "status": "completed"
    },
    "tags": []
   },
   "source": [
    "### 1.1Variable Inference"
   ]
  },
  {
   "cell_type": "code",
   "execution_count": 4,
   "id": "2bd2825e",
   "metadata": {
    "execution": {
     "iopub.execute_input": "2023-05-09T17:40:30.338450Z",
     "iopub.status.busy": "2023-05-09T17:40:30.337792Z",
     "iopub.status.idle": "2023-05-09T17:40:30.344502Z",
     "shell.execute_reply": "2023-05-09T17:40:30.343831Z"
    },
    "papermill": {
     "duration": 0.018719,
     "end_time": "2023-05-09T17:40:30.346403",
     "exception": false,
     "start_time": "2023-05-09T17:40:30.327684",
     "status": "completed"
    },
    "tags": []
   },
   "outputs": [],
   "source": [
    "# Model with Gaussian prior \n",
    "class BNN(nn.Module):\n",
    "    def __init__(self, n_in, n_out,n_hide):\n",
    "        super().__init__()\n",
    "        self.w = nn.Parameter(torch.randn(n_in, n_out))\n",
    "        self.fc1 = nn.Linear(n_in, n_hide) \n",
    "        self.fc2 = nn.Linear(n_hide, n_out)\n",
    "        self.dropout = nn.Dropout(0.5) \n",
    "\n",
    "    def forward(self, x):\n",
    "        x = F.relu(self.fc1(x))\n",
    "        x = self.dropout(x)\n",
    "        x = self.fc2(x)\n",
    "        return F.log_softmax(x, dim=1)  \n",
    "\n",
    "    def kl_divergence(self):\n",
    "        mean, std = self.w.mean(), self.w.std()\n",
    "        return ((mean ** 2 + std ** 2 - torch.log(std **2)-1)/2).sum()"
   ]
  },
  {
   "cell_type": "code",
   "execution_count": 5,
   "id": "f136aad2",
   "metadata": {
    "execution": {
     "iopub.execute_input": "2023-05-09T17:40:30.365499Z",
     "iopub.status.busy": "2023-05-09T17:40:30.364894Z",
     "iopub.status.idle": "2023-05-09T17:40:30.389185Z",
     "shell.execute_reply": "2023-05-09T17:40:30.388431Z"
    },
    "papermill": {
     "duration": 0.036241,
     "end_time": "2023-05-09T17:40:30.391405",
     "exception": false,
     "start_time": "2023-05-09T17:40:30.355164",
     "status": "completed"
    },
    "tags": []
   },
   "outputs": [],
   "source": [
    "model = BNN(784,500,10)  "
   ]
  },
  {
   "cell_type": "code",
   "execution_count": 6,
   "id": "5aeaf41e",
   "metadata": {
    "execution": {
     "iopub.execute_input": "2023-05-09T17:40:30.410833Z",
     "iopub.status.busy": "2023-05-09T17:40:30.410296Z",
     "iopub.status.idle": "2023-05-09T17:47:55.919993Z",
     "shell.execute_reply": "2023-05-09T17:47:55.918510Z"
    },
    "papermill": {
     "duration": 445.522083,
     "end_time": "2023-05-09T17:47:55.922440",
     "exception": false,
     "start_time": "2023-05-09T17:40:30.400357",
     "status": "completed"
    },
    "tags": []
   },
   "outputs": [
    {
     "name": "stdout",
     "output_type": "stream",
     "text": [
      "Epoch: 1, Train Loss: 6.126\n",
      "Epoch: 2, Train Loss: 5.833\n",
      "Epoch: 3, Train Loss: 5.738\n",
      "Epoch: 4, Train Loss: 5.476\n",
      "Epoch: 5, Train Loss: 5.142\n",
      "Epoch: 6, Train Loss: 4.885\n",
      "Epoch: 7, Train Loss: 4.888\n",
      "Epoch: 8, Train Loss: 4.614\n",
      "Epoch: 9, Train Loss: 4.245\n",
      "Epoch: 10, Train Loss: 4.000\n",
      "Epoch: 11, Train Loss: 4.192\n",
      "Epoch: 12, Train Loss: 3.790\n",
      "Epoch: 13, Train Loss: 3.609\n",
      "Epoch: 14, Train Loss: 3.746\n",
      "Epoch: 15, Train Loss: 3.743\n",
      "Epoch: 16, Train Loss: 3.165\n",
      "Epoch: 17, Train Loss: 2.998\n",
      "Epoch: 18, Train Loss: 3.128\n",
      "Epoch: 19, Train Loss: 2.856\n",
      "Epoch: 20, Train Loss: 2.996\n",
      "Epoch: 21, Train Loss: 2.711\n",
      "Epoch: 22, Train Loss: 2.883\n",
      "Epoch: 23, Train Loss: 2.501\n",
      "Epoch: 24, Train Loss: 2.767\n",
      "Epoch: 25, Train Loss: 2.735\n",
      "Epoch: 26, Train Loss: 2.525\n",
      "Epoch: 27, Train Loss: 2.530\n",
      "Epoch: 28, Train Loss: 2.552\n",
      "Epoch: 29, Train Loss: 2.087\n",
      "Epoch: 30, Train Loss: 2.504\n",
      "Epoch: 31, Train Loss: 2.326\n",
      "Epoch: 32, Train Loss: 2.136\n",
      "Epoch: 33, Train Loss: 1.969\n",
      "Epoch: 34, Train Loss: 2.239\n",
      "Epoch: 35, Train Loss: 2.107\n",
      "Epoch: 36, Train Loss: 1.965\n",
      "Epoch: 37, Train Loss: 2.286\n",
      "Epoch: 38, Train Loss: 2.238\n",
      "Epoch: 39, Train Loss: 1.877\n",
      "Epoch: 40, Train Loss: 1.857\n",
      "Epoch: 41, Train Loss: 1.995\n",
      "Epoch: 42, Train Loss: 1.946\n",
      "Epoch: 43, Train Loss: 1.852\n",
      "Epoch: 44, Train Loss: 2.040\n",
      "Epoch: 45, Train Loss: 1.704\n",
      "Epoch: 46, Train Loss: 1.521\n",
      "Epoch: 47, Train Loss: 1.940\n",
      "Epoch: 48, Train Loss: 1.738\n",
      "Epoch: 49, Train Loss: 1.660\n",
      "Epoch: 50, Train Loss: 1.923\n"
     ]
    }
   ],
   "source": [
    "# Training  \n",
    "optimizer = torch.optim.Adam(model.parameters(), lr=1e-5)\n",
    "for epoch in range(50):\n",
    "    for x, y in train_loader: \n",
    "        x = x.view(-1, 784)\n",
    "        loss = F.nll_loss(model(x), y)\n",
    "        loss += model.kl_divergence() * 0.1  \n",
    "        optimizer.zero_grad()\n",
    "        loss.backward()\n",
    "        optimizer.step()\n",
    "    print(f'Epoch: {epoch+1}, Train Loss: {loss.item():.3f}')"
   ]
  },
  {
   "cell_type": "code",
   "execution_count": 7,
   "id": "09a35194",
   "metadata": {
    "execution": {
     "iopub.execute_input": "2023-05-09T17:47:55.949425Z",
     "iopub.status.busy": "2023-05-09T17:47:55.948445Z",
     "iopub.status.idle": "2023-05-09T17:47:57.301420Z",
     "shell.execute_reply": "2023-05-09T17:47:57.300102Z"
    },
    "papermill": {
     "duration": 1.368991,
     "end_time": "2023-05-09T17:47:57.303598",
     "exception": false,
     "start_time": "2023-05-09T17:47:55.934607",
     "status": "completed"
    },
    "tags": []
   },
   "outputs": [
    {
     "name": "stdout",
     "output_type": "stream",
     "text": [
      "Test accuracy: 0.478\n"
     ]
    }
   ],
   "source": [
    "# Test accuracy  \n",
    "with torch.no_grad():\n",
    "    correct = 0\n",
    "    for x, y in test_loader:\n",
    "        x = x.view(-1, 784)\n",
    "        y_pred = model(x).argmax(dim=1)\n",
    "        correct += (y_pred == y).sum().item() \n",
    "print(f'Test accuracy: {correct/len(test_set):.3f}') "
   ]
  },
  {
   "cell_type": "markdown",
   "id": "fb4d62cc",
   "metadata": {
    "papermill": {
     "duration": 0.011282,
     "end_time": "2023-05-09T17:47:57.326771",
     "exception": false,
     "start_time": "2023-05-09T17:47:57.315489",
     "status": "completed"
    },
    "tags": []
   },
   "source": [
    "### 1.2MCMC"
   ]
  },
  {
   "cell_type": "code",
   "execution_count": 8,
   "id": "77926a7b",
   "metadata": {
    "execution": {
     "iopub.execute_input": "2023-05-09T17:47:57.351500Z",
     "iopub.status.busy": "2023-05-09T17:47:57.351103Z",
     "iopub.status.idle": "2023-05-09T17:48:04.872006Z",
     "shell.execute_reply": "2023-05-09T17:48:04.870624Z"
    },
    "papermill": {
     "duration": 7.536648,
     "end_time": "2023-05-09T17:48:04.874807",
     "exception": false,
     "start_time": "2023-05-09T17:47:57.338159",
     "status": "completed"
    },
    "tags": []
   },
   "outputs": [],
   "source": [
    "# Get train data\n",
    "train_x = []  \n",
    "train_y = []\n",
    "for x, y in train_loader:\n",
    "    train_x.append(x.view(-1, 784))\n",
    "    train_y.append(y)\n",
    "train_x = torch.cat(train_x)  \n",
    "train_y = torch.cat(train_y)"
   ]
  },
  {
   "cell_type": "code",
   "execution_count": 9,
   "id": "38f9b1e6",
   "metadata": {
    "execution": {
     "iopub.execute_input": "2023-05-09T17:48:04.902462Z",
     "iopub.status.busy": "2023-05-09T17:48:04.902066Z",
     "iopub.status.idle": "2023-05-09T17:48:04.910232Z",
     "shell.execute_reply": "2023-05-09T17:48:04.909185Z"
    },
    "papermill": {
     "duration": 0.024847,
     "end_time": "2023-05-09T17:48:04.912438",
     "exception": false,
     "start_time": "2023-05-09T17:48:04.887591",
     "status": "completed"
    },
    "tags": []
   },
   "outputs": [],
   "source": [
    "# Model with Gaussian prior \n",
    "class BNN(nn.Module):\n",
    "    def __init__(self, n_in, n_hide, n_out):\n",
    "        super().__init__()\n",
    "        self.fc1 = nn.Linear(n_in, n_hide)  \n",
    "        self.fc2 = nn.Linear(n_hide, n_out)\n",
    "        self.dropout = nn.Dropout(0.5)\n",
    "        self.w = torch.zeros(n_in, n_out)  # Weight parameter\n",
    "\n",
    "    def forward(self, x,w_proposal=None):\n",
    "        if w_proposal is None:\n",
    "              w = self.w\n",
    "        else:\n",
    "              w = w_proposal\n",
    "        x = F.relu(self.fc1(x))\n",
    "        x = self.dropout(x)\n",
    "        x = self.fc2(x)\n",
    "        pred = F.log_softmax(x, dim=1)\n",
    "        dist = torch.distributions.Categorical(logits=pred)\n",
    "        return dist"
   ]
  },
  {
   "cell_type": "code",
   "execution_count": 10,
   "id": "b7b92c8a",
   "metadata": {
    "execution": {
     "iopub.execute_input": "2023-05-09T17:48:04.938607Z",
     "iopub.status.busy": "2023-05-09T17:48:04.938218Z",
     "iopub.status.idle": "2023-05-09T17:48:04.949652Z",
     "shell.execute_reply": "2023-05-09T17:48:04.948705Z"
    },
    "papermill": {
     "duration": 0.026717,
     "end_time": "2023-05-09T17:48:04.951782",
     "exception": false,
     "start_time": "2023-05-09T17:48:04.925065",
     "status": "completed"
    },
    "tags": []
   },
   "outputs": [],
   "source": [
    "# MCMC Sampling\n",
    "model = BNN(784, 500, 10) \n",
    "w = model.w.data  # Get weight tensor "
   ]
  },
  {
   "cell_type": "code",
   "execution_count": 11,
   "id": "66fdf744",
   "metadata": {
    "execution": {
     "iopub.execute_input": "2023-05-09T17:48:04.977427Z",
     "iopub.status.busy": "2023-05-09T17:48:04.976859Z",
     "iopub.status.idle": "2023-05-09T18:34:41.006921Z",
     "shell.execute_reply": "2023-05-09T18:34:41.005522Z"
    },
    "papermill": {
     "duration": 2796.045788,
     "end_time": "2023-05-09T18:34:41.009666",
     "exception": false,
     "start_time": "2023-05-09T17:48:04.963878",
     "status": "completed"
    },
    "tags": []
   },
   "outputs": [],
   "source": [
    "for i in range(2000):  # 2000 iterations\n",
    "    # Proposal distribution\n",
    "    w_proposal = w + torch.randn(w.size())*0.1 \n",
    "\n",
    "    # Acceptance ratio\n",
    "    ap = torch.exp(model(train_x).log_prob(train_y).sum() - model(train_x, w_proposal).log_prob(train_y).sum()) \n",
    "\n",
    "    # Metropolis acceptance\n",
    "    u = torch.rand(1)\n",
    "    if u < ap:\n",
    "        w = w_proposal  # Accept proposal \n",
    "\n",
    "    model.w.data = w  # Set weight to sampled value"
   ]
  },
  {
   "cell_type": "code",
   "execution_count": 12,
   "id": "d1952b07",
   "metadata": {
    "execution": {
     "iopub.execute_input": "2023-05-09T18:34:41.036625Z",
     "iopub.status.busy": "2023-05-09T18:34:41.035960Z",
     "iopub.status.idle": "2023-05-09T18:34:42.793917Z",
     "shell.execute_reply": "2023-05-09T18:34:42.792751Z"
    },
    "papermill": {
     "duration": 1.773726,
     "end_time": "2023-05-09T18:34:42.796394",
     "exception": false,
     "start_time": "2023-05-09T18:34:41.022668",
     "status": "completed"
    },
    "tags": []
   },
   "outputs": [
    {
     "name": "stdout",
     "output_type": "stream",
     "text": [
      "Test accuracy: 0.094\n"
     ]
    }
   ],
   "source": [
    "# Test accuracy\n",
    "with torch.no_grad():\n",
    "    correct = 0\n",
    "    for x, y in test_loader:\n",
    "        x = x.view(-1, 784)\n",
    "        y_pred = model(x).sample()\n",
    "        correct += (y_pred == y).sum().item()\n",
    "    print(f'Test accuracy: {correct/len(test_set):.3f}') "
   ]
  },
  {
   "cell_type": "markdown",
   "id": "d942b4e0",
   "metadata": {
    "papermill": {
     "duration": 0.012166,
     "end_time": "2023-05-09T18:34:42.821101",
     "exception": false,
     "start_time": "2023-05-09T18:34:42.808935",
     "status": "completed"
    },
    "tags": []
   },
   "source": [
    "## 2.Laplace weights"
   ]
  },
  {
   "cell_type": "markdown",
   "id": "4df7a20e",
   "metadata": {
    "papermill": {
     "duration": 0.011658,
     "end_time": "2023-05-09T18:34:42.845070",
     "exception": false,
     "start_time": "2023-05-09T18:34:42.833412",
     "status": "completed"
    },
    "tags": []
   },
   "source": [
    "### 2.1Variable Inference"
   ]
  },
  {
   "cell_type": "code",
   "execution_count": 13,
   "id": "9f11e913",
   "metadata": {
    "execution": {
     "iopub.execute_input": "2023-05-09T18:34:42.872001Z",
     "iopub.status.busy": "2023-05-09T18:34:42.871540Z",
     "iopub.status.idle": "2023-05-09T18:34:42.879734Z",
     "shell.execute_reply": "2023-05-09T18:34:42.878545Z"
    },
    "papermill": {
     "duration": 0.023898,
     "end_time": "2023-05-09T18:34:42.881776",
     "exception": false,
     "start_time": "2023-05-09T18:34:42.857878",
     "status": "completed"
    },
    "tags": []
   },
   "outputs": [],
   "source": [
    "# Model with Laplace prior \n",
    "class BNN(nn.Module):\n",
    "    def __init__(self, n_in, n_out,n_hide):\n",
    "        super().__init__()\n",
    "        self.w = nn.Parameter(torch.zeros(n_in, n_out))\n",
    "        self.fc1 = nn.Linear(n_in, n_hide)  \n",
    "        self.fc2 = nn.Linear(n_hide, n_out)\n",
    "        self.dropout = nn.Dropout(0.5)\n",
    "\n",
    "    def forward(self, x):\n",
    "        x = F.relu(self.fc1(x))\n",
    "        x = self.dropout(x)\n",
    "        x = self.fc2(x)\n",
    "        return F.log_softmax(x, dim=1)  \n",
    "\n",
    "    def kl_divergence(self):\n",
    "        return (self.w.abs().sum() / 2).sum()  # Laplace prior  "
   ]
  },
  {
   "cell_type": "code",
   "execution_count": 14,
   "id": "d146243f",
   "metadata": {
    "execution": {
     "iopub.execute_input": "2023-05-09T18:34:42.908113Z",
     "iopub.status.busy": "2023-05-09T18:34:42.907728Z",
     "iopub.status.idle": "2023-05-09T18:34:42.913704Z",
     "shell.execute_reply": "2023-05-09T18:34:42.912800Z"
    },
    "papermill": {
     "duration": 0.022099,
     "end_time": "2023-05-09T18:34:42.916228",
     "exception": false,
     "start_time": "2023-05-09T18:34:42.894129",
     "status": "completed"
    },
    "tags": []
   },
   "outputs": [],
   "source": [
    "model = BNN(784,500,10)  "
   ]
  },
  {
   "cell_type": "code",
   "execution_count": 15,
   "id": "b9a472e0",
   "metadata": {
    "execution": {
     "iopub.execute_input": "2023-05-09T18:34:42.942331Z",
     "iopub.status.busy": "2023-05-09T18:34:42.941957Z",
     "iopub.status.idle": "2023-05-09T18:42:11.013007Z",
     "shell.execute_reply": "2023-05-09T18:42:11.011886Z"
    },
    "papermill": {
     "duration": 448.087239,
     "end_time": "2023-05-09T18:42:11.015767",
     "exception": false,
     "start_time": "2023-05-09T18:34:42.928528",
     "status": "completed"
    },
    "tags": []
   },
   "outputs": [
    {
     "name": "stdout",
     "output_type": "stream",
     "text": [
      "Epoch: 1, Train Loss: 5.947\n",
      "Epoch: 2, Train Loss: 5.825\n",
      "Epoch: 3, Train Loss: 5.602\n",
      "Epoch: 4, Train Loss: 5.308\n",
      "Epoch: 5, Train Loss: 4.997\n",
      "Epoch: 6, Train Loss: 4.989\n",
      "Epoch: 7, Train Loss: 4.923\n",
      "Epoch: 8, Train Loss: 4.276\n",
      "Epoch: 9, Train Loss: 4.003\n",
      "Epoch: 10, Train Loss: 4.480\n",
      "Epoch: 11, Train Loss: 3.782\n",
      "Epoch: 12, Train Loss: 3.833\n",
      "Epoch: 13, Train Loss: 3.691\n",
      "Epoch: 14, Train Loss: 4.087\n",
      "Epoch: 15, Train Loss: 3.338\n",
      "Epoch: 16, Train Loss: 3.167\n",
      "Epoch: 17, Train Loss: 3.277\n",
      "Epoch: 18, Train Loss: 3.164\n",
      "Epoch: 19, Train Loss: 3.211\n",
      "Epoch: 20, Train Loss: 2.908\n",
      "Epoch: 21, Train Loss: 2.956\n",
      "Epoch: 22, Train Loss: 2.956\n",
      "Epoch: 23, Train Loss: 2.594\n",
      "Epoch: 24, Train Loss: 2.434\n",
      "Epoch: 25, Train Loss: 2.398\n",
      "Epoch: 26, Train Loss: 2.483\n",
      "Epoch: 27, Train Loss: 2.545\n",
      "Epoch: 28, Train Loss: 2.453\n",
      "Epoch: 29, Train Loss: 2.456\n",
      "Epoch: 30, Train Loss: 2.548\n",
      "Epoch: 31, Train Loss: 2.558\n",
      "Epoch: 32, Train Loss: 2.463\n",
      "Epoch: 33, Train Loss: 2.121\n",
      "Epoch: 34, Train Loss: 2.273\n",
      "Epoch: 35, Train Loss: 2.027\n",
      "Epoch: 36, Train Loss: 2.293\n",
      "Epoch: 37, Train Loss: 2.274\n",
      "Epoch: 38, Train Loss: 1.953\n",
      "Epoch: 39, Train Loss: 1.836\n",
      "Epoch: 40, Train Loss: 2.328\n",
      "Epoch: 41, Train Loss: 2.243\n",
      "Epoch: 42, Train Loss: 2.051\n",
      "Epoch: 43, Train Loss: 1.674\n",
      "Epoch: 44, Train Loss: 1.882\n",
      "Epoch: 45, Train Loss: 1.728\n",
      "Epoch: 46, Train Loss: 1.818\n",
      "Epoch: 47, Train Loss: 1.777\n",
      "Epoch: 48, Train Loss: 1.688\n",
      "Epoch: 49, Train Loss: 1.516\n",
      "Epoch: 50, Train Loss: 2.049\n"
     ]
    }
   ],
   "source": [
    "# Training  \n",
    "optimizer = torch.optim.Adam(model.parameters(), lr=1e-5)\n",
    "for epoch in range(50):\n",
    "    for x, y in train_loader: \n",
    "        x = x.view(-1, 784)\n",
    "        loss = F.nll_loss(model(x), y)\n",
    "        loss += model.kl_divergence() * 0.1   # Weight decay as KL term\n",
    "        optimizer.zero_grad()\n",
    "        loss.backward()\n",
    "        optimizer.step()\n",
    "    print(f'Epoch: {epoch+1}, Train Loss: {loss.item():.3f}')"
   ]
  },
  {
   "cell_type": "code",
   "execution_count": 16,
   "id": "7ffd6527",
   "metadata": {
    "execution": {
     "iopub.execute_input": "2023-05-09T18:42:11.050582Z",
     "iopub.status.busy": "2023-05-09T18:42:11.050189Z",
     "iopub.status.idle": "2023-05-09T18:42:12.530060Z",
     "shell.execute_reply": "2023-05-09T18:42:12.528397Z"
    },
    "papermill": {
     "duration": 1.500219,
     "end_time": "2023-05-09T18:42:12.532468",
     "exception": false,
     "start_time": "2023-05-09T18:42:11.032249",
     "status": "completed"
    },
    "tags": []
   },
   "outputs": [
    {
     "name": "stdout",
     "output_type": "stream",
     "text": [
      "Test accuracy: 0.470\n"
     ]
    }
   ],
   "source": [
    "# Test accuracy  \n",
    "with torch.no_grad():\n",
    "    correct = 0\n",
    "    for x, y in test_loader:\n",
    "        x = x.view(-1, 784)\n",
    "        y_pred = model(x).argmax(dim=1)\n",
    "        correct += (y_pred == y).sum().item() \n",
    "print(f'Test accuracy: {correct/len(test_set):.3f}') "
   ]
  },
  {
   "cell_type": "markdown",
   "id": "5f78fc44",
   "metadata": {
    "papermill": {
     "duration": 0.015615,
     "end_time": "2023-05-09T18:42:12.564232",
     "exception": false,
     "start_time": "2023-05-09T18:42:12.548617",
     "status": "completed"
    },
    "tags": []
   },
   "source": [
    "### 2.2MCMC"
   ]
  },
  {
   "cell_type": "code",
   "execution_count": 17,
   "id": "a0c08361",
   "metadata": {
    "execution": {
     "iopub.execute_input": "2023-05-09T18:42:12.596934Z",
     "iopub.status.busy": "2023-05-09T18:42:12.596487Z",
     "iopub.status.idle": "2023-05-09T18:42:20.075462Z",
     "shell.execute_reply": "2023-05-09T18:42:20.074302Z"
    },
    "papermill": {
     "duration": 7.498482,
     "end_time": "2023-05-09T18:42:20.078013",
     "exception": false,
     "start_time": "2023-05-09T18:42:12.579531",
     "status": "completed"
    },
    "tags": []
   },
   "outputs": [],
   "source": [
    "# Get train data\n",
    "train_x = []  \n",
    "train_y = []\n",
    "for x, y in train_loader:\n",
    "    train_x.append(x.view(-1, 784))\n",
    "    train_y.append(y)\n",
    "train_x = torch.cat(train_x)  \n",
    "train_y = torch.cat(train_y)"
   ]
  },
  {
   "cell_type": "code",
   "execution_count": 18,
   "id": "092c3eee",
   "metadata": {
    "execution": {
     "iopub.execute_input": "2023-05-09T18:42:20.111444Z",
     "iopub.status.busy": "2023-05-09T18:42:20.110818Z",
     "iopub.status.idle": "2023-05-09T18:42:20.119172Z",
     "shell.execute_reply": "2023-05-09T18:42:20.118126Z"
    },
    "papermill": {
     "duration": 0.027584,
     "end_time": "2023-05-09T18:42:20.121412",
     "exception": false,
     "start_time": "2023-05-09T18:42:20.093828",
     "status": "completed"
    },
    "tags": []
   },
   "outputs": [],
   "source": [
    "# Model with Laplace prior\n",
    "class BNN(nn.Module):\n",
    "    def __init__(self, n_in, n_hide, n_out):\n",
    "        super().__init__()\n",
    "        self.fc1 = nn.Linear(n_in, n_hide)  \n",
    "        self.fc2 = nn.Linear(n_hide, n_out)\n",
    "        self.dropout = nn.Dropout(0.5)\n",
    "        self.w = torch.zeros(n_in, n_out)  \n",
    "\n",
    "    def forward(self, x, w_proposal=None):\n",
    "        if w_proposal is None:  \n",
    "              w = self.w\n",
    "        else:\n",
    "              w = w_proposal\n",
    "        x = F.relu(self.fc1(x))\n",
    "        x = self.dropout(x)\n",
    "        x = self.fc2(x)\n",
    "        pred = F.log_softmax(x, dim=1)\n",
    "        dist = torch.distributions.Categorical(logits=pred)\n",
    "        return dist\n",
    "\n",
    "    def log_prior(self, w):\n",
    "        return -w.abs().sum() "
   ]
  },
  {
   "cell_type": "code",
   "execution_count": 19,
   "id": "8dc532df",
   "metadata": {
    "execution": {
     "iopub.execute_input": "2023-05-09T18:42:20.153898Z",
     "iopub.status.busy": "2023-05-09T18:42:20.153481Z",
     "iopub.status.idle": "2023-05-09T18:42:20.163639Z",
     "shell.execute_reply": "2023-05-09T18:42:20.162541Z"
    },
    "papermill": {
     "duration": 0.029201,
     "end_time": "2023-05-09T18:42:20.166044",
     "exception": false,
     "start_time": "2023-05-09T18:42:20.136843",
     "status": "completed"
    },
    "tags": []
   },
   "outputs": [],
   "source": [
    "# MCMC Sampling\n",
    "model = BNN(784, 500, 10) \n",
    "w = model.w.data  # Get weight tensor "
   ]
  },
  {
   "cell_type": "code",
   "execution_count": 20,
   "id": "0eb73e39",
   "metadata": {
    "execution": {
     "iopub.execute_input": "2023-05-09T18:42:20.198487Z",
     "iopub.status.busy": "2023-05-09T18:42:20.198112Z",
     "iopub.status.idle": "2023-05-09T18:42:20.528037Z",
     "shell.execute_reply": "2023-05-09T18:42:20.526936Z"
    },
    "papermill": {
     "duration": 0.349011,
     "end_time": "2023-05-09T18:42:20.530598",
     "exception": false,
     "start_time": "2023-05-09T18:42:20.181587",
     "status": "completed"
    },
    "tags": []
   },
   "outputs": [],
   "source": [
    "for i in range(2000): \n",
    "    # Proposal distribution\n",
    "    w_proposal = w + torch.randn(w.size())*0.1\n",
    "\n",
    "    # Prior ratio \n",
    "    lp = model.log_prior(w_proposal)  \n",
    "    ap = torch.exp(lp - model.log_prior(w))\n",
    "\n",
    "    # Metropolis acceptance \n",
    "    u = torch.rand(1)\n",
    "    if u < ap:\n",
    "        w = w_proposal  \n",
    "\n",
    "    model.w.data = w "
   ]
  },
  {
   "cell_type": "code",
   "execution_count": 21,
   "id": "aa2b8af6",
   "metadata": {
    "execution": {
     "iopub.execute_input": "2023-05-09T18:42:20.563305Z",
     "iopub.status.busy": "2023-05-09T18:42:20.562902Z",
     "iopub.status.idle": "2023-05-09T18:42:22.109635Z",
     "shell.execute_reply": "2023-05-09T18:42:22.108357Z"
    },
    "papermill": {
     "duration": 1.566786,
     "end_time": "2023-05-09T18:42:22.113011",
     "exception": false,
     "start_time": "2023-05-09T18:42:20.546225",
     "status": "completed"
    },
    "tags": []
   },
   "outputs": [
    {
     "name": "stdout",
     "output_type": "stream",
     "text": [
      "Test accuracy: 0.091\n"
     ]
    }
   ],
   "source": [
    "# Test accuracy\n",
    "with torch.no_grad():\n",
    "    correct = 0\n",
    "    for x, y in test_loader:\n",
    "        x = x.view(-1, 784)\n",
    "        y_pred = model(x).sample()\n",
    "        correct += (y_pred == y).sum().item()\n",
    "    print(f'Test accuracy: {correct/len(test_set):.3f}') "
   ]
  },
  {
   "cell_type": "markdown",
   "id": "b1da609b",
   "metadata": {
    "papermill": {
     "duration": 0.015154,
     "end_time": "2023-05-09T18:42:22.146968",
     "exception": false,
     "start_time": "2023-05-09T18:42:22.131814",
     "status": "completed"
    },
    "tags": []
   },
   "source": [
    "## 3.Equalisation weights"
   ]
  },
  {
   "cell_type": "markdown",
   "id": "558b0c1c",
   "metadata": {
    "papermill": {
     "duration": 0.015105,
     "end_time": "2023-05-09T18:42:22.177536",
     "exception": false,
     "start_time": "2023-05-09T18:42:22.162431",
     "status": "completed"
    },
    "tags": []
   },
   "source": [
    "### 3.1Variable Inference"
   ]
  },
  {
   "cell_type": "code",
   "execution_count": 22,
   "id": "e9d823d5",
   "metadata": {
    "execution": {
     "iopub.execute_input": "2023-05-09T18:42:22.210434Z",
     "iopub.status.busy": "2023-05-09T18:42:22.210038Z",
     "iopub.status.idle": "2023-05-09T18:42:22.218110Z",
     "shell.execute_reply": "2023-05-09T18:42:22.217082Z"
    },
    "papermill": {
     "duration": 0.027252,
     "end_time": "2023-05-09T18:42:22.220380",
     "exception": false,
     "start_time": "2023-05-09T18:42:22.193128",
     "status": "completed"
    },
    "tags": []
   },
   "outputs": [],
   "source": [
    "# Model with Uniform prior\n",
    "class BNN(nn.Module):\n",
    "    def __init__(self, n_in, n_out,n_hide):\n",
    "        super().__init__()\n",
    "        self.w = nn.Parameter(torch.zeros(n_in, n_out))\n",
    "        self.fc1 = nn.Linear(n_in, n_hide)\n",
    "        self.fc2 = nn.Linear(n_hide, n_out)\n",
    "        self.dropout = nn.Dropout(0.5)\n",
    "\n",
    "    def forward(self, x):\n",
    "        x = F.relu(self.fc1(x))\n",
    "        x = self.dropout(x)\n",
    "        x = self.fc2(x)\n",
    "        return F.log_softmax(x, dim=1)  \n",
    "\n",
    "    def kl_divergence(self):\n",
    "        return 0.5*(self.w**2).sum()  # Uniform prior  "
   ]
  },
  {
   "cell_type": "code",
   "execution_count": 23,
   "id": "61f91ccd",
   "metadata": {
    "execution": {
     "iopub.execute_input": "2023-05-09T18:42:22.253344Z",
     "iopub.status.busy": "2023-05-09T18:42:22.252999Z",
     "iopub.status.idle": "2023-05-09T18:42:22.258813Z",
     "shell.execute_reply": "2023-05-09T18:42:22.257751Z"
    },
    "papermill": {
     "duration": 0.025177,
     "end_time": "2023-05-09T18:42:22.261286",
     "exception": false,
     "start_time": "2023-05-09T18:42:22.236109",
     "status": "completed"
    },
    "tags": []
   },
   "outputs": [],
   "source": [
    "model = BNN(784,500,10)  "
   ]
  },
  {
   "cell_type": "code",
   "execution_count": 24,
   "id": "cb623057",
   "metadata": {
    "execution": {
     "iopub.execute_input": "2023-05-09T18:42:22.295853Z",
     "iopub.status.busy": "2023-05-09T18:42:22.295485Z",
     "iopub.status.idle": "2023-05-09T18:49:53.345881Z",
     "shell.execute_reply": "2023-05-09T18:49:53.344471Z"
    },
    "papermill": {
     "duration": 451.069353,
     "end_time": "2023-05-09T18:49:53.348199",
     "exception": false,
     "start_time": "2023-05-09T18:42:22.278846",
     "status": "completed"
    },
    "tags": []
   },
   "outputs": [
    {
     "name": "stdout",
     "output_type": "stream",
     "text": [
      "Epoch: 1, Train Loss: 5.939\n",
      "Epoch: 2, Train Loss: 5.554\n",
      "Epoch: 3, Train Loss: 5.293\n",
      "Epoch: 4, Train Loss: 5.365\n",
      "Epoch: 5, Train Loss: 5.016\n",
      "Epoch: 6, Train Loss: 4.291\n",
      "Epoch: 7, Train Loss: 4.648\n",
      "Epoch: 8, Train Loss: 4.227\n",
      "Epoch: 9, Train Loss: 3.973\n",
      "Epoch: 10, Train Loss: 3.773\n",
      "Epoch: 11, Train Loss: 4.025\n",
      "Epoch: 12, Train Loss: 3.557\n",
      "Epoch: 13, Train Loss: 3.611\n",
      "Epoch: 14, Train Loss: 3.416\n",
      "Epoch: 15, Train Loss: 2.967\n",
      "Epoch: 16, Train Loss: 3.783\n",
      "Epoch: 17, Train Loss: 3.161\n",
      "Epoch: 18, Train Loss: 3.268\n",
      "Epoch: 19, Train Loss: 3.242\n",
      "Epoch: 20, Train Loss: 2.768\n",
      "Epoch: 21, Train Loss: 2.356\n",
      "Epoch: 22, Train Loss: 2.816\n",
      "Epoch: 23, Train Loss: 2.693\n",
      "Epoch: 24, Train Loss: 2.332\n",
      "Epoch: 25, Train Loss: 2.488\n",
      "Epoch: 26, Train Loss: 2.321\n",
      "Epoch: 27, Train Loss: 2.283\n",
      "Epoch: 28, Train Loss: 2.267\n",
      "Epoch: 29, Train Loss: 2.152\n",
      "Epoch: 30, Train Loss: 2.359\n",
      "Epoch: 31, Train Loss: 2.036\n",
      "Epoch: 32, Train Loss: 2.138\n",
      "Epoch: 33, Train Loss: 2.218\n",
      "Epoch: 34, Train Loss: 2.208\n",
      "Epoch: 35, Train Loss: 2.417\n",
      "Epoch: 36, Train Loss: 2.145\n",
      "Epoch: 37, Train Loss: 2.205\n",
      "Epoch: 38, Train Loss: 1.880\n",
      "Epoch: 39, Train Loss: 2.003\n",
      "Epoch: 40, Train Loss: 1.837\n",
      "Epoch: 41, Train Loss: 1.864\n",
      "Epoch: 42, Train Loss: 1.810\n",
      "Epoch: 43, Train Loss: 1.987\n",
      "Epoch: 44, Train Loss: 1.745\n",
      "Epoch: 45, Train Loss: 1.605\n",
      "Epoch: 46, Train Loss: 2.182\n",
      "Epoch: 47, Train Loss: 1.815\n",
      "Epoch: 48, Train Loss: 1.942\n",
      "Epoch: 49, Train Loss: 1.808\n",
      "Epoch: 50, Train Loss: 1.776\n"
     ]
    }
   ],
   "source": [
    "# Training  \n",
    "optimizer = torch.optim.Adam(model.parameters(), lr=1e-5)\n",
    "for epoch in range(50):\n",
    "    for x, y in train_loader: \n",
    "        x = x.view(-1, 784)\n",
    "        loss = F.nll_loss(model(x), y)\n",
    "        loss += model.kl_divergence() * 0.1  \n",
    "        optimizer.zero_grad()\n",
    "        loss.backward()\n",
    "        optimizer.step()\n",
    "    print(f'Epoch: {epoch+1}, Train Loss: {loss.item():.3f}')"
   ]
  },
  {
   "cell_type": "code",
   "execution_count": 25,
   "id": "26e73889",
   "metadata": {
    "execution": {
     "iopub.execute_input": "2023-05-09T18:49:53.454822Z",
     "iopub.status.busy": "2023-05-09T18:49:53.454406Z",
     "iopub.status.idle": "2023-05-09T18:49:54.919815Z",
     "shell.execute_reply": "2023-05-09T18:49:54.918419Z"
    },
    "papermill": {
     "duration": 1.554646,
     "end_time": "2023-05-09T18:49:54.922233",
     "exception": false,
     "start_time": "2023-05-09T18:49:53.367587",
     "status": "completed"
    },
    "tags": []
   },
   "outputs": [
    {
     "name": "stdout",
     "output_type": "stream",
     "text": [
      "Test accuracy: 0.472\n"
     ]
    }
   ],
   "source": [
    "# Test accuracy  \n",
    "with torch.no_grad():\n",
    "    correct = 0\n",
    "    for x, y in test_loader:\n",
    "        x = x.view(-1, 784)\n",
    "        y_pred = model(x).argmax(dim=1)\n",
    "        correct += (y_pred == y).sum().item() \n",
    "print(f'Test accuracy: {correct/len(test_set):.3f}') "
   ]
  },
  {
   "cell_type": "markdown",
   "id": "65640c08",
   "metadata": {
    "papermill": {
     "duration": 0.018339,
     "end_time": "2023-05-09T18:49:54.959859",
     "exception": false,
     "start_time": "2023-05-09T18:49:54.941520",
     "status": "completed"
    },
    "tags": []
   },
   "source": [
    "### 3.2MCMC"
   ]
  },
  {
   "cell_type": "code",
   "execution_count": 26,
   "id": "53fb73f7",
   "metadata": {
    "execution": {
     "iopub.execute_input": "2023-05-09T18:49:54.999618Z",
     "iopub.status.busy": "2023-05-09T18:49:54.999233Z",
     "iopub.status.idle": "2023-05-09T18:50:02.413214Z",
     "shell.execute_reply": "2023-05-09T18:50:02.411854Z"
    },
    "papermill": {
     "duration": 7.437473,
     "end_time": "2023-05-09T18:50:02.416006",
     "exception": false,
     "start_time": "2023-05-09T18:49:54.978533",
     "status": "completed"
    },
    "tags": []
   },
   "outputs": [],
   "source": [
    "# Get train data\n",
    "train_x = []  \n",
    "train_y = []\n",
    "for x, y in train_loader:\n",
    "    train_x.append(x.view(-1, 784))\n",
    "    train_y.append(y)\n",
    "train_x = torch.cat(train_x)  \n",
    "train_y = torch.cat(train_y)"
   ]
  },
  {
   "cell_type": "code",
   "execution_count": 27,
   "id": "833949dd",
   "metadata": {
    "execution": {
     "iopub.execute_input": "2023-05-09T18:50:02.457191Z",
     "iopub.status.busy": "2023-05-09T18:50:02.456618Z",
     "iopub.status.idle": "2023-05-09T18:50:02.464990Z",
     "shell.execute_reply": "2023-05-09T18:50:02.463966Z"
    },
    "papermill": {
     "duration": 0.031785,
     "end_time": "2023-05-09T18:50:02.467088",
     "exception": false,
     "start_time": "2023-05-09T18:50:02.435303",
     "status": "completed"
    },
    "tags": []
   },
   "outputs": [],
   "source": [
    "# Model with Uniform prior\n",
    "class BNN(nn.Module):\n",
    "    def __init__(self, n_in, n_hide, n_out):\n",
    "        super().__init__()\n",
    "        self.fc1 = nn.Linear(n_in, n_hide)  \n",
    "        self.fc2 = nn.Linear(n_hide, n_out)\n",
    "        self.dropout = nn.Dropout(0.5)\n",
    "        self.w = torch.zeros(n_in, n_out)  # Weight parameter\n",
    "\n",
    "    def forward(self, x, w_proposal=None):\n",
    "        if w_proposal is None:\n",
    "              w = self.w\n",
    "        else:\n",
    "              w = w_proposal\n",
    "        x = F.relu(self.fc1(x))\n",
    "        x = self.dropout(x)\n",
    "        x = self.fc2(x)\n",
    "        pred = F.log_softmax(x, dim=1)\n",
    "        dist = torch.distributions.Categorical(logits=pred)\n",
    "        return dist\n",
    "\n",
    "    def log_prior(self, w):\n",
    "        return -torch.sum(torch.abs(w))"
   ]
  },
  {
   "cell_type": "code",
   "execution_count": 28,
   "id": "98e59cf3",
   "metadata": {
    "execution": {
     "iopub.execute_input": "2023-05-09T18:50:02.507429Z",
     "iopub.status.busy": "2023-05-09T18:50:02.507051Z",
     "iopub.status.idle": "2023-05-09T18:50:02.516714Z",
     "shell.execute_reply": "2023-05-09T18:50:02.515612Z"
    },
    "papermill": {
     "duration": 0.032977,
     "end_time": "2023-05-09T18:50:02.519182",
     "exception": false,
     "start_time": "2023-05-09T18:50:02.486205",
     "status": "completed"
    },
    "tags": []
   },
   "outputs": [],
   "source": [
    "# MCMC Sampling\n",
    "model = BNN(784, 500, 10)  \n",
    "w = model.w.data "
   ]
  },
  {
   "cell_type": "code",
   "execution_count": 29,
   "id": "266f7aec",
   "metadata": {
    "execution": {
     "iopub.execute_input": "2023-05-09T18:50:02.559863Z",
     "iopub.status.busy": "2023-05-09T18:50:02.559454Z",
     "iopub.status.idle": "2023-05-09T19:13:39.016802Z",
     "shell.execute_reply": "2023-05-09T19:13:39.015418Z"
    },
    "papermill": {
     "duration": 1416.480488,
     "end_time": "2023-05-09T19:13:39.019532",
     "exception": false,
     "start_time": "2023-05-09T18:50:02.539044",
     "status": "completed"
    },
    "tags": []
   },
   "outputs": [],
   "source": [
    "for i in range(2000): \n",
    "    # Evenly distributed\n",
    "    w_proposal = torch.rand(w.size())\n",
    "\n",
    "    # A priori ratio - logarithmic difference of uniform distribution\n",
    "    ap = torch.tensor(0.)  \n",
    "\n",
    "    u = torch.rand(1)\n",
    "    if u < ap:  \n",
    "          w = w_proposal\n",
    "\n",
    "    model.w.data = w  \n",
    "\n",
    "    logits = model(train_x, w_proposal).logits\n",
    "    loss = F.cross_entropy(logits, train_y)  "
   ]
  },
  {
   "cell_type": "code",
   "execution_count": 30,
   "id": "a94de607",
   "metadata": {
    "execution": {
     "iopub.execute_input": "2023-05-09T19:13:39.060943Z",
     "iopub.status.busy": "2023-05-09T19:13:39.060257Z",
     "iopub.status.idle": "2023-05-09T19:13:40.539318Z",
     "shell.execute_reply": "2023-05-09T19:13:40.537611Z"
    },
    "papermill": {
     "duration": 1.502044,
     "end_time": "2023-05-09T19:13:40.541901",
     "exception": false,
     "start_time": "2023-05-09T19:13:39.039857",
     "status": "completed"
    },
    "tags": []
   },
   "outputs": [
    {
     "name": "stdout",
     "output_type": "stream",
     "text": [
      "Test accuracy: 0.101\n"
     ]
    }
   ],
   "source": [
    "# Test accuracy\n",
    "with torch.no_grad():\n",
    "    correct = 0\n",
    "    for x, y in test_loader:\n",
    "        x = x.view(-1, 784)\n",
    "        y_pred = model(x).sample()\n",
    "        correct += (y_pred == y).sum().item()\n",
    "    print(f'Test accuracy: {correct/len(test_set):.3f}') "
   ]
  }
 ],
 "metadata": {
  "kernelspec": {
   "display_name": "Python 3",
   "language": "python",
   "name": "python3"
  },
  "language_info": {
   "codemirror_mode": {
    "name": "ipython",
    "version": 3
   },
   "file_extension": ".py",
   "mimetype": "text/x-python",
   "name": "python",
   "nbconvert_exporter": "python",
   "pygments_lexer": "ipython3",
   "version": "3.10.10"
  },
  "papermill": {
   "default_parameters": {},
   "duration": 5619.616364,
   "end_time": "2023-05-09T19:13:43.068646",
   "environment_variables": {},
   "exception": null,
   "input_path": "__notebook__.ipynb",
   "output_path": "__notebook__.ipynb",
   "parameters": {},
   "start_time": "2023-05-09T17:40:03.452282",
   "version": "2.4.0"
  }
 },
 "nbformat": 4,
 "nbformat_minor": 5
}
